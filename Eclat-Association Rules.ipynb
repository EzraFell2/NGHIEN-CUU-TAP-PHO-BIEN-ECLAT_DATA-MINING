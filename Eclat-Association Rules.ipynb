{
 "cells": [
  {
   "metadata": {
    "ExecuteTime": {
     "end_time": "2024-12-12T06:54:47.305847Z",
     "start_time": "2024-12-12T06:54:47.301832Z"
    }
   },
   "cell_type": "code",
   "source": [
    "import csv\n",
    "import pandas as pd\n",
    "import matplotlib.pyplot as plt\n",
    "from itertools import combinations"
   ],
   "outputs": [],
   "execution_count": 97
  },
  {
   "metadata": {},
   "cell_type": "markdown",
   "source": "# PHẦN 1: KHÁM PHÁ DỮ LIỆU"
  },
  {
   "metadata": {
    "ExecuteTime": {
     "end_time": "2024-12-12T06:54:47.528789Z",
     "start_time": "2024-12-12T06:54:47.492459Z"
    }
   },
   "cell_type": "code",
   "source": [
    "# Đọc và in dữ liệu ban đầu\n",
    "data = pd.read_csv('Market Basket Analysis 4.csv', header=None, dtype=str)\n",
    "data"
   ],
   "outputs": [
    {
     "data": {
      "text/plain": [
       "                          0                   1                    2       3   \\\n",
       "0                 whole milk              pastry          salty snack     NaN   \n",
       "1                    sausage          whole milk  semi-finished bread  yogurt   \n",
       "2                       soda  pickled vegetables                  NaN     NaN   \n",
       "3                canned beer     misc. beverages                  NaN     NaN   \n",
       "4                    sausage    hygiene articles                  NaN     NaN   \n",
       "...                      ...                 ...                  ...     ...   \n",
       "14958            butter milk  whipped/sour cream                  NaN     NaN   \n",
       "14959          bottled water               herbs                  NaN     NaN   \n",
       "14960  fruit/vegetable juice              onions                  NaN     NaN   \n",
       "14961           bottled beer    other vegetables                  NaN     NaN   \n",
       "14962                   soda     root vegetables  semi-finished bread     NaN   \n",
       "\n",
       "        4    5    6    7    8    9    10  \n",
       "0      NaN  NaN  NaN  NaN  NaN  NaN  NaN  \n",
       "1      NaN  NaN  NaN  NaN  NaN  NaN  NaN  \n",
       "2      NaN  NaN  NaN  NaN  NaN  NaN  NaN  \n",
       "3      NaN  NaN  NaN  NaN  NaN  NaN  NaN  \n",
       "4      NaN  NaN  NaN  NaN  NaN  NaN  NaN  \n",
       "...    ...  ...  ...  ...  ...  ...  ...  \n",
       "14958  NaN  NaN  NaN  NaN  NaN  NaN  NaN  \n",
       "14959  NaN  NaN  NaN  NaN  NaN  NaN  NaN  \n",
       "14960  NaN  NaN  NaN  NaN  NaN  NaN  NaN  \n",
       "14961  NaN  NaN  NaN  NaN  NaN  NaN  NaN  \n",
       "14962  NaN  NaN  NaN  NaN  NaN  NaN  NaN  \n",
       "\n",
       "[14963 rows x 11 columns]"
      ],
      "text/html": [
       "<div>\n",
       "<style scoped>\n",
       "    .dataframe tbody tr th:only-of-type {\n",
       "        vertical-align: middle;\n",
       "    }\n",
       "\n",
       "    .dataframe tbody tr th {\n",
       "        vertical-align: top;\n",
       "    }\n",
       "\n",
       "    .dataframe thead th {\n",
       "        text-align: right;\n",
       "    }\n",
       "</style>\n",
       "<table border=\"1\" class=\"dataframe\">\n",
       "  <thead>\n",
       "    <tr style=\"text-align: right;\">\n",
       "      <th></th>\n",
       "      <th>0</th>\n",
       "      <th>1</th>\n",
       "      <th>2</th>\n",
       "      <th>3</th>\n",
       "      <th>4</th>\n",
       "      <th>5</th>\n",
       "      <th>6</th>\n",
       "      <th>7</th>\n",
       "      <th>8</th>\n",
       "      <th>9</th>\n",
       "      <th>10</th>\n",
       "    </tr>\n",
       "  </thead>\n",
       "  <tbody>\n",
       "    <tr>\n",
       "      <th>0</th>\n",
       "      <td>whole milk</td>\n",
       "      <td>pastry</td>\n",
       "      <td>salty snack</td>\n",
       "      <td>NaN</td>\n",
       "      <td>NaN</td>\n",
       "      <td>NaN</td>\n",
       "      <td>NaN</td>\n",
       "      <td>NaN</td>\n",
       "      <td>NaN</td>\n",
       "      <td>NaN</td>\n",
       "      <td>NaN</td>\n",
       "    </tr>\n",
       "    <tr>\n",
       "      <th>1</th>\n",
       "      <td>sausage</td>\n",
       "      <td>whole milk</td>\n",
       "      <td>semi-finished bread</td>\n",
       "      <td>yogurt</td>\n",
       "      <td>NaN</td>\n",
       "      <td>NaN</td>\n",
       "      <td>NaN</td>\n",
       "      <td>NaN</td>\n",
       "      <td>NaN</td>\n",
       "      <td>NaN</td>\n",
       "      <td>NaN</td>\n",
       "    </tr>\n",
       "    <tr>\n",
       "      <th>2</th>\n",
       "      <td>soda</td>\n",
       "      <td>pickled vegetables</td>\n",
       "      <td>NaN</td>\n",
       "      <td>NaN</td>\n",
       "      <td>NaN</td>\n",
       "      <td>NaN</td>\n",
       "      <td>NaN</td>\n",
       "      <td>NaN</td>\n",
       "      <td>NaN</td>\n",
       "      <td>NaN</td>\n",
       "      <td>NaN</td>\n",
       "    </tr>\n",
       "    <tr>\n",
       "      <th>3</th>\n",
       "      <td>canned beer</td>\n",
       "      <td>misc. beverages</td>\n",
       "      <td>NaN</td>\n",
       "      <td>NaN</td>\n",
       "      <td>NaN</td>\n",
       "      <td>NaN</td>\n",
       "      <td>NaN</td>\n",
       "      <td>NaN</td>\n",
       "      <td>NaN</td>\n",
       "      <td>NaN</td>\n",
       "      <td>NaN</td>\n",
       "    </tr>\n",
       "    <tr>\n",
       "      <th>4</th>\n",
       "      <td>sausage</td>\n",
       "      <td>hygiene articles</td>\n",
       "      <td>NaN</td>\n",
       "      <td>NaN</td>\n",
       "      <td>NaN</td>\n",
       "      <td>NaN</td>\n",
       "      <td>NaN</td>\n",
       "      <td>NaN</td>\n",
       "      <td>NaN</td>\n",
       "      <td>NaN</td>\n",
       "      <td>NaN</td>\n",
       "    </tr>\n",
       "    <tr>\n",
       "      <th>...</th>\n",
       "      <td>...</td>\n",
       "      <td>...</td>\n",
       "      <td>...</td>\n",
       "      <td>...</td>\n",
       "      <td>...</td>\n",
       "      <td>...</td>\n",
       "      <td>...</td>\n",
       "      <td>...</td>\n",
       "      <td>...</td>\n",
       "      <td>...</td>\n",
       "      <td>...</td>\n",
       "    </tr>\n",
       "    <tr>\n",
       "      <th>14958</th>\n",
       "      <td>butter milk</td>\n",
       "      <td>whipped/sour cream</td>\n",
       "      <td>NaN</td>\n",
       "      <td>NaN</td>\n",
       "      <td>NaN</td>\n",
       "      <td>NaN</td>\n",
       "      <td>NaN</td>\n",
       "      <td>NaN</td>\n",
       "      <td>NaN</td>\n",
       "      <td>NaN</td>\n",
       "      <td>NaN</td>\n",
       "    </tr>\n",
       "    <tr>\n",
       "      <th>14959</th>\n",
       "      <td>bottled water</td>\n",
       "      <td>herbs</td>\n",
       "      <td>NaN</td>\n",
       "      <td>NaN</td>\n",
       "      <td>NaN</td>\n",
       "      <td>NaN</td>\n",
       "      <td>NaN</td>\n",
       "      <td>NaN</td>\n",
       "      <td>NaN</td>\n",
       "      <td>NaN</td>\n",
       "      <td>NaN</td>\n",
       "    </tr>\n",
       "    <tr>\n",
       "      <th>14960</th>\n",
       "      <td>fruit/vegetable juice</td>\n",
       "      <td>onions</td>\n",
       "      <td>NaN</td>\n",
       "      <td>NaN</td>\n",
       "      <td>NaN</td>\n",
       "      <td>NaN</td>\n",
       "      <td>NaN</td>\n",
       "      <td>NaN</td>\n",
       "      <td>NaN</td>\n",
       "      <td>NaN</td>\n",
       "      <td>NaN</td>\n",
       "    </tr>\n",
       "    <tr>\n",
       "      <th>14961</th>\n",
       "      <td>bottled beer</td>\n",
       "      <td>other vegetables</td>\n",
       "      <td>NaN</td>\n",
       "      <td>NaN</td>\n",
       "      <td>NaN</td>\n",
       "      <td>NaN</td>\n",
       "      <td>NaN</td>\n",
       "      <td>NaN</td>\n",
       "      <td>NaN</td>\n",
       "      <td>NaN</td>\n",
       "      <td>NaN</td>\n",
       "    </tr>\n",
       "    <tr>\n",
       "      <th>14962</th>\n",
       "      <td>soda</td>\n",
       "      <td>root vegetables</td>\n",
       "      <td>semi-finished bread</td>\n",
       "      <td>NaN</td>\n",
       "      <td>NaN</td>\n",
       "      <td>NaN</td>\n",
       "      <td>NaN</td>\n",
       "      <td>NaN</td>\n",
       "      <td>NaN</td>\n",
       "      <td>NaN</td>\n",
       "      <td>NaN</td>\n",
       "    </tr>\n",
       "  </tbody>\n",
       "</table>\n",
       "<p>14963 rows × 11 columns</p>\n",
       "</div>"
      ]
     },
     "execution_count": 98,
     "metadata": {},
     "output_type": "execute_result"
    }
   ],
   "execution_count": 98
  },
  {
   "metadata": {},
   "cell_type": "markdown",
   "source": "Khi sử dụng data frame dạng bảng sẽ khó xử lý theo từng giao dịch => chuyển đổi thành các danh sách giao dịch"
  },
  {
   "metadata": {
    "ExecuteTime": {
     "end_time": "2024-12-12T06:54:47.605163Z",
     "start_time": "2024-12-12T06:54:47.531370Z"
    }
   },
   "cell_type": "code",
   "source": [
    "# Tìm tất cả các giá trị chứa dấu \"/\"\n",
    "values_with_slash = set()  # Dùng set để lưu giá trị không trùng lặp\n",
    "\n",
    "for column in data.columns:  #\n",
    "    matches = data[column][data[column].astype(str).str.contains(\"/\", na=False)]\n",
    "    values_with_slash.update(matches.tolist())  \n",
    "\n",
    "print('Danh sách tên các mặt hàng có dấu \"/\":')\n",
    "print(values_with_slash)"
   ],
   "outputs": [
    {
     "name": "stdout",
     "output_type": "stream",
     "text": [
      "Danh sách tên các mặt hàng có dấu \"/\":\n",
      "{'cling film/bags', 'whipped/sour cream', 'rolls/buns', 'red/blush wine', 'fruit/vegetable juice', 'photo/film', 'packaged fruit/vegetables', 'nuts/prunes', 'flower soil/fertilizer'}\n"
     ]
    }
   ],
   "execution_count": 99
  },
  {
   "metadata": {},
   "cell_type": "markdown",
   "source": "Nhận thấy dấu '/' được dùng để nhóm các sản phẩm chung vào cùng một loại hàng hóa. Đây không phải là dấu phân tách hai mặt hàng riêng biệt => không cần tách riêng ra."
  },
  {
   "metadata": {
    "ExecuteTime": {
     "end_time": "2024-12-12T08:37:46.508698Z",
     "start_time": "2024-12-12T08:37:46.492678Z"
    }
   },
   "cell_type": "code",
   "source": [
    "# Kết hợp tất cả các mặt hàng trong tập dữ liệu\n",
    "all_items = data.stack().dropna().tolist()\n",
    "\n",
    "# Loại bỏ các mặt hàng giống nhau\n",
    "unique_items = set(all_items)\n",
    "\n",
    "total_unique_items = len(unique_items)\n",
    "print(\"Tổng số lượng mặt hàng trong tất cả giao dịch:\", total_unique_items)"
   ],
   "outputs": [
    {
     "name": "stdout",
     "output_type": "stream",
     "text": [
      "Tổng số lượng mặt hàng trong tất cả giao dịch: 167\n"
     ]
    }
   ],
   "execution_count": 123
  },
  {
   "metadata": {
    "ExecuteTime": {
     "end_time": "2024-12-12T06:54:47.962123Z",
     "start_time": "2024-12-12T06:54:47.627568Z"
    }
   },
   "cell_type": "code",
   "source": [
    "# Kết hợp tất cả các mặt hàng để tính tần suất\n",
    "all_items = data.stack().dropna().tolist()\n",
    "item_frequencies = pd.Series(all_items).value_counts()\n",
    "\n",
    "# Vẽ biểu đồ tần suất của 10 mặt hàng phổ biến nhất\n",
    "top_items = item_frequencies.head(10)\n",
    "\n",
    "# Thiết lập biểu đồ\n",
    "plt.figure(figsize=(10, 6))\n",
    "top_items.plot(kind='bar', color='skyblue')\n",
    "plt.title(\"Top 10 Mặt Hàng Phổ Biến Nhất Trong Giao Dịch\")\n",
    "plt.xlabel(\"Mặt Hàng\")\n",
    "plt.ylabel(\"Tần Suất\")\n",
    "plt.xticks(rotation=45, ha=\"right\")\n",
    "plt.grid(axis='y')\n",
    "plt.tight_layout()\n",
    "plt.show()\n",
    "\n",
    "# Vẽ biểu đồ tần suất của 10 mặt hàng phổ biến nhất\n",
    "bot_items = item_frequencies.tail(10)\n",
    "\n",
    "# Thiết lập biểu đồ\n",
    "plt.figure(figsize=(10, 6))\n",
    "bot_items.plot(kind='bar', color='skyblue')\n",
    "plt.title(\"Top 10 Mặt Hàng Ít Phổ Biến Nhất Trong Giao Dịch\")\n",
    "plt.xlabel(\"Mặt Hàng\")\n",
    "plt.ylabel(\"Tần Suất\")\n",
    "plt.xticks(rotation=45, ha=\"right\")\n",
    "plt.grid(axis='y')\n",
    "plt.tight_layout()\n",
    "plt.show()"
   ],
   "outputs": [
    {
     "data": {
      "text/plain": [
       "<Figure size 1000x600 with 1 Axes>"
      ],
      "image/png": "[encoded data removed]"
     },
     "metadata": {},
     "output_type": "display_data"
    },
    {
     "data": {
      "text/plain": [
       "<Figure size 1000x600 with 1 Axes>"
      ],
      "image/png": "[encoded data removed]"
     },
     "metadata": {},
     "output_type": "display_data"
    }
   ],
   "execution_count": 101
  },
  {
   "metadata": {
    "ExecuteTime": {
     "end_time": "2024-12-12T06:54:48.092779Z",
     "start_time": "2024-12-12T06:54:47.964691Z"
    }
   },
   "cell_type": "code",
   "source": [
    "# Đếm số mặt hàng không phải NaN trên mỗi hóa đơn\n",
    "item_counts_per_invoice = data.notna().sum(axis=1)\n",
    "\n",
    "# Đếm số lần xuất hiện của mỗi số lượng mặt hàng\n",
    "item_count_distribution = item_counts_per_invoice.value_counts().sort_index()\n",
    "\n",
    "# Vẽ biểu đồ cột\n",
    "plt.figure(figsize=(6, 6))\n",
    "item_count_distribution.plot(kind='bar', color='skyblue', edgecolor='black')\n",
    "plt.title(\"Phân Phối Số Lượng Mặt Hàng Mua Trên Mỗi Hóa Đơn\")\n",
    "plt.xlabel(\"Số Mặt Hàng\")\n",
    "plt.ylabel(\"Số Lượng Hóa Đơn\")\n",
    "plt.grid(axis='y')\n",
    "plt.xticks(rotation=0)\n",
    "plt.tight_layout()\n",
    "plt.show()"
   ],
   "outputs": [
    {
     "data": {
      "text/plain": [
       "<Figure size 600x600 with 1 Axes>"
      ],
      "image/png": "[encoded data removed]"
     },
     "metadata": {},
     "output_type": "display_data"
    }
   ],
   "execution_count": 102
  },
  {
   "metadata": {},
   "cell_type": "markdown",
   "source": "# PHẦN 2: CHUYỂN ĐỔI DỮ LIỆU "
  },
  {
   "metadata": {
    "ExecuteTime": {
     "end_time": "2024-12-12T06:54:48.098666Z",
     "start_time": "2024-12-12T06:54:48.094323Z"
    }
   },
   "cell_type": "code",
   "source": [
    "# Đọc file CSV và chuyển thành danh sách giao dịch\n",
    "def read_transactions_from_csv(file_path):\n",
    "    transactions = []\n",
    "    with open(file_path, 'r') as file:\n",
    "        reader = csv.reader(file)\n",
    "        for row in reader:\n",
    "            transactions.append([item.strip() for item in row if item.strip()])\n",
    "    return transactions"
   ],
   "outputs": [],
   "execution_count": 103
  },
  {
   "metadata": {
    "ExecuteTime": {
     "end_time": "2024-12-12T06:54:48.104721Z",
     "start_time": "2024-12-12T06:54:48.100197Z"
    }
   },
   "cell_type": "code",
   "source": [
    "# Chuyển đổi giao dịch từ dạng ngang sang dạng dọc\n",
    "def convert_to_vertical_format(transactions):\n",
    "    vertical_db = {}\n",
    "    for transaction_id, transaction in enumerate(transactions):\n",
    "        unique_items = set(transaction)\n",
    "        for item in unique_items:\n",
    "            if item not in vertical_db:\n",
    "                vertical_db[item] = []\n",
    "            vertical_db[item].append(transaction_id)\n",
    "    return vertical_db"
   ],
   "outputs": [],
   "execution_count": 104
  },
  {
   "metadata": {
    "ExecuteTime": {
     "end_time": "2024-12-12T06:54:48.110595Z",
     "start_time": "2024-12-12T06:54:48.105826Z"
    }
   },
   "cell_type": "code",
   "source": [
    "# Tạo ra bảng cho các giao dịch để trực quan\n",
    "def transactions_table(transactions):\n",
    "    data = {'Transaction': [', '.join(map(str, transaction)) for transaction in transactions]}\n",
    "    \n",
    "    df = pd.DataFrame(data)\n",
    "    return df"
   ],
   "outputs": [],
   "execution_count": 105
  },
  {
   "metadata": {
    "ExecuteTime": {
     "end_time": "2024-12-12T06:54:48.116288Z",
     "start_time": "2024-12-12T06:54:48.112352Z"
    }
   },
   "cell_type": "code",
   "source": [
    "# Tạo ra bảng cho vertical_transactions để trực quan\n",
    "def vertical_transactions_table(vertical_db):\n",
    "    vertical_data = {\n",
    "        'Item': [item for item in vertical_db.keys()],\n",
    "        'Transactions': [', '.join(map(str, transactions)) for transactions in vertical_db.values()]\n",
    "    }\n",
    "    \n",
    "    df = pd.DataFrame(vertical_data)\n",
    "    return df"
   ],
   "outputs": [],
   "execution_count": 106
  },
  {
   "metadata": {
    "ExecuteTime": {
     "end_time": "2024-12-12T06:54:48.153866Z",
     "start_time": "2024-12-12T06:54:48.117370Z"
    }
   },
   "cell_type": "code",
   "source": [
    "# Đọc file và chuyển đổi thành danh sách giao dịch\n",
    "transactions = read_transactions_from_csv('Market Basket Analysis 4.csv')\n",
    "\n",
    "# In và kiểm tra danh sách giao dịch\n",
    "df_transactions = transactions_table(transactions)\n",
    "print(\"Transactions:\")\n",
    "df_transactions"
   ],
   "outputs": [
    {
     "name": "stdout",
     "output_type": "stream",
     "text": [
      "Transactions:\n"
     ]
    },
    {
     "data": {
      "text/plain": [
       "                                            Transaction\n",
       "0                       whole milk, pastry, salty snack\n",
       "1      sausage, whole milk, semi-finished bread, yogurt\n",
       "2                              soda, pickled vegetables\n",
       "3                          canned beer, misc. beverages\n",
       "4                             sausage, hygiene articles\n",
       "...                                                 ...\n",
       "14958                   butter milk, whipped/sour cream\n",
       "14959                              bottled water, herbs\n",
       "14960                     fruit/vegetable juice, onions\n",
       "14961                    bottled beer, other vegetables\n",
       "14962        soda, root vegetables, semi-finished bread\n",
       "\n",
       "[14963 rows x 1 columns]"
      ],
      "text/html": [
       "<div>\n",
       "<style scoped>\n",
       "    .dataframe tbody tr th:only-of-type {\n",
       "        vertical-align: middle;\n",
       "    }\n",
       "\n",
       "    .dataframe tbody tr th {\n",
       "        vertical-align: top;\n",
       "    }\n",
       "\n",
       "    .dataframe thead th {\n",
       "        text-align: right;\n",
       "    }\n",
       "</style>\n",
       "<table border=\"1\" class=\"dataframe\">\n",
       "  <thead>\n",
       "    <tr style=\"text-align: right;\">\n",
       "      <th></th>\n",
       "      <th>Transaction</th>\n",
       "    </tr>\n",
       "  </thead>\n",
       "  <tbody>\n",
       "    <tr>\n",
       "      <th>0</th>\n",
       "      <td>whole milk, pastry, salty snack</td>\n",
       "    </tr>\n",
       "    <tr>\n",
       "      <th>1</th>\n",
       "      <td>sausage, whole milk, semi-finished bread, yogurt</td>\n",
       "    </tr>\n",
       "    <tr>\n",
       "      <th>2</th>\n",
       "      <td>soda, pickled vegetables</td>\n",
       "    </tr>\n",
       "    <tr>\n",
       "      <th>3</th>\n",
       "      <td>canned beer, misc. beverages</td>\n",
       "    </tr>\n",
       "    <tr>\n",
       "      <th>4</th>\n",
       "      <td>sausage, hygiene articles</td>\n",
       "    </tr>\n",
       "    <tr>\n",
       "      <th>...</th>\n",
       "      <td>...</td>\n",
       "    </tr>\n",
       "    <tr>\n",
       "      <th>14958</th>\n",
       "      <td>butter milk, whipped/sour cream</td>\n",
       "    </tr>\n",
       "    <tr>\n",
       "      <th>14959</th>\n",
       "      <td>bottled water, herbs</td>\n",
       "    </tr>\n",
       "    <tr>\n",
       "      <th>14960</th>\n",
       "      <td>fruit/vegetable juice, onions</td>\n",
       "    </tr>\n",
       "    <tr>\n",
       "      <th>14961</th>\n",
       "      <td>bottled beer, other vegetables</td>\n",
       "    </tr>\n",
       "    <tr>\n",
       "      <th>14962</th>\n",
       "      <td>soda, root vegetables, semi-finished bread</td>\n",
       "    </tr>\n",
       "  </tbody>\n",
       "</table>\n",
       "<p>14963 rows × 1 columns</p>\n",
       "</div>"
      ]
     },
     "execution_count": 107,
     "metadata": {},
     "output_type": "execute_result"
    }
   ],
   "execution_count": 107
  },
  {
   "metadata": {
    "ExecuteTime": {
     "end_time": "2024-12-12T06:54:48.209752Z",
     "start_time": "2024-12-12T06:54:48.188082Z"
    }
   },
   "cell_type": "code",
   "source": [
    "# Chuyển đổi danh sách giao dịch sang dạng dọc\n",
    "vertical_db = convert_to_vertical_format(transactions)\n",
    "\n",
    "# In và kiểm tra vertical db\n",
    "df_vertical = vertical_transactions_table(vertical_db)\n",
    "print(\"\\nVertical Database:\")\n",
    "df_vertical"
   ],
   "outputs": [
    {
     "name": "stdout",
     "output_type": "stream",
     "text": [
      "\n",
      "Vertical Database:\n"
     ]
    },
    {
     "data": {
      "text/plain": [
       "                     Item                                       Transactions\n",
       "0                  pastry  0, 21, 37, 43, 117, 121, 164, 202, 277, 292, 3...\n",
       "1             salty snack  0, 63, 101, 144, 212, 219, 326, 330, 387, 392,...\n",
       "2              whole milk  0, 1, 5, 6, 10, 20, 21, 24, 29, 31, 45, 48, 51...\n",
       "3     semi-finished bread  1, 264, 379, 404, 478, 737, 752, 780, 807, 950...\n",
       "4                 sausage  1, 4, 5, 17, 60, 87, 91, 99, 123, 132, 140, 21...\n",
       "..                    ...                                                ...\n",
       "162        frozen chicken                     3085, 6883, 8513, 10776, 13827\n",
       "163        salad dressing                 3974, 4305, 5882, 6906, 7716, 8799\n",
       "164  specialty vegetables  3990, 4044, 7743, 7805, 8828, 10775, 10782, 11...\n",
       "165        toilet cleaner                     4990, 5524, 8408, 10991, 13781\n",
       "166       rubbing alcohol                     5349, 6740, 7443, 13063, 14833\n",
       "\n",
       "[167 rows x 2 columns]"
      ],
      "text/html": [
       "<div>\n",
       "<style scoped>\n",
       "    .dataframe tbody tr th:only-of-type {\n",
       "        vertical-align: middle;\n",
       "    }\n",
       "\n",
       "    .dataframe tbody tr th {\n",
       "        vertical-align: top;\n",
       "    }\n",
       "\n",
       "    .dataframe thead th {\n",
       "        text-align: right;\n",
       "    }\n",
       "</style>\n",
       "<table border=\"1\" class=\"dataframe\">\n",
       "  <thead>\n",
       "    <tr style=\"text-align: right;\">\n",
       "      <th></th>\n",
       "      <th>Item</th>\n",
       "      <th>Transactions</th>\n",
       "    </tr>\n",
       "  </thead>\n",
       "  <tbody>\n",
       "    <tr>\n",
       "      <th>0</th>\n",
       "      <td>pastry</td>\n",
       "      <td>0, 21, 37, 43, 117, 121, 164, 202, 277, 292, 3...</td>\n",
       "    </tr>\n",
       "    <tr>\n",
       "      <th>1</th>\n",
       "      <td>salty snack</td>\n",
       "      <td>0, 63, 101, 144, 212, 219, 326, 330, 387, 392,...</td>\n",
       "    </tr>\n",
       "    <tr>\n",
       "      <th>2</th>\n",
       "      <td>whole milk</td>\n",
       "      <td>0, 1, 5, 6, 10, 20, 21, 24, 29, 31, 45, 48, 51...</td>\n",
       "    </tr>\n",
       "    <tr>\n",
       "      <th>3</th>\n",
       "      <td>semi-finished bread</td>\n",
       "      <td>1, 264, 379, 404, 478, 737, 752, 780, 807, 950...</td>\n",
       "    </tr>\n",
       "    <tr>\n",
       "      <th>4</th>\n",
       "      <td>sausage</td>\n",
       "      <td>1, 4, 5, 17, 60, 87, 91, 99, 123, 132, 140, 21...</td>\n",
       "    </tr>\n",
       "    <tr>\n",
       "      <th>...</th>\n",
       "      <td>...</td>\n",
       "      <td>...</td>\n",
       "    </tr>\n",
       "    <tr>\n",
       "      <th>162</th>\n",
       "      <td>frozen chicken</td>\n",
       "      <td>3085, 6883, 8513, 10776, 13827</td>\n",
       "    </tr>\n",
       "    <tr>\n",
       "      <th>163</th>\n",
       "      <td>salad dressing</td>\n",
       "      <td>3974, 4305, 5882, 6906, 7716, 8799</td>\n",
       "    </tr>\n",
       "    <tr>\n",
       "      <th>164</th>\n",
       "      <td>specialty vegetables</td>\n",
       "      <td>3990, 4044, 7743, 7805, 8828, 10775, 10782, 11...</td>\n",
       "    </tr>\n",
       "    <tr>\n",
       "      <th>165</th>\n",
       "      <td>toilet cleaner</td>\n",
       "      <td>4990, 5524, 8408, 10991, 13781</td>\n",
       "    </tr>\n",
       "    <tr>\n",
       "      <th>166</th>\n",
       "      <td>rubbing alcohol</td>\n",
       "      <td>5349, 6740, 7443, 13063, 14833</td>\n",
       "    </tr>\n",
       "  </tbody>\n",
       "</table>\n",
       "<p>167 rows × 2 columns</p>\n",
       "</div>"
      ]
     },
     "execution_count": 109,
     "metadata": {},
     "output_type": "execute_result"
    }
   ],
   "execution_count": 109
  },
  {
   "metadata": {},
   "cell_type": "markdown",
   "source": "# PHẦN 3: THUẬT TOÁN ECLAT VÀ LUẬT KẾ HỢP"
  },
  {
   "metadata": {
    "ExecuteTime": {
     "end_time": "2024-12-12T06:54:48.407040Z",
     "start_time": "2024-12-12T06:54:48.401995Z"
    }
   },
   "cell_type": "code",
   "source": [
    "def eclat_algorithm(vertical_db, total_transactions, min_sup):  \n",
    "    # Lọc ra items và tid_lists có frequency >= min_sup * total_transactions\n",
    "    items, tid_lists = zip(*[(key, set(tid_list)) for key, tid_list in vertical_db.items() if len(tid_list) >= min_sup * total_transactions])\n",
    "    \n",
    "    # Tạo hàm để thực hiện đệ qui\n",
    "    def find_frequent_itemsets(prefix, items, tid_lists, min_sup, frequent_itemsets):\n",
    "        if not items:\n",
    "            return frequent_itemsets\n",
    "        \n",
    "        for i in range(len(items)):\n",
    "            item = items[i]\n",
    "            tid_list = tid_lists[i]\n",
    "            support = len(tid_list) / total_transactions\n",
    "            \n",
    "            # Kiểm tra điều kiện min_sup\n",
    "            if support >= min_sup:\n",
    "                frequent_itemsets.append((prefix + [item], support))\n",
    "                    \n",
    "                new_prefix = prefix + [item]\n",
    "                new_items = items[i + 1:]\n",
    "                new_tid_lists = [\n",
    "                    tid_list & other_tid_list\n",
    "                    for other_tid_list in tid_lists[i + 1:]\n",
    "                ]\n",
    "                \n",
    "                find_frequent_itemsets(new_prefix, new_items, new_tid_lists, min_sup, frequent_itemsets)\n",
    "                \n",
    "        return frequent_itemsets\n",
    "    \n",
    "    frequent_itemsets = find_frequent_itemsets([], items, tid_lists, min_sup, [])\n",
    "    \n",
    "    return frequent_itemsets"
   ],
   "outputs": [],
   "execution_count": 111
  },
  {
   "metadata": {
    "ExecuteTime": {
     "end_time": "2024-12-12T06:54:48.414853Z",
     "start_time": "2024-12-12T06:54:48.408729Z"
    }
   },
   "cell_type": "code",
   "source": [
    "# Sinh ra các luật kết hợp từ các itemsets phổ biến\n",
    "def association_rules(frequent_itemsets, min_confidence):\n",
    "    rules = []\n",
    "    \n",
    "    # Tạo thư viện để lưu frequency theo các itemset phổ biến\n",
    "    freq_dict = {frozenset(itemset): support for itemset, support in frequent_itemsets}\n",
    "    \n",
    "    for itemset, support in frequent_itemsets:\n",
    "        if len(itemset) >= 2:\n",
    "            for i in range(1, len(itemset)):\n",
    "                for subset in combinations(itemset, i):\n",
    "                    antecedent = set(subset)\n",
    "                    consequent = set(itemset) - antecedent\n",
    "                    \n",
    "                    if not consequent:\n",
    "                        continue\n",
    "                    \n",
    "                    supp_antecedent = freq_dict.get(frozenset(antecedent), 0)\n",
    "                    supp_consequent = freq_dict.get(frozenset(consequent), 0)\n",
    "                    \n",
    "                    # Tính confidence\n",
    "                    confidence = (support / supp_antecedent)  if supp_antecedent > 0 else 0\n",
    "                    \n",
    "                    # Tính lift\n",
    "                    lift = (support / (supp_antecedent * supp_consequent)) if supp_antecedent >= 0 and supp_consequent >= 0 else 0\n",
    "                    \n",
    "                    if confidence >= min_confidence:\n",
    "                        rules.append((antecedent, consequent, support, confidence, lift))\n",
    "                    \n",
    "    return rules"
   ],
   "outputs": [],
   "execution_count": 112
  },
  {
   "metadata": {
    "ExecuteTime": {
     "end_time": "2024-12-12T06:54:48.421100Z",
     "start_time": "2024-12-12T06:54:48.416668Z"
    }
   },
   "cell_type": "code",
   "source": [
    "# Tạo ra bảng cho các itemsets phổ biến để trực quan\n",
    "def frequent_itemsets_table(frequent_itemsets):\n",
    "    data = {\n",
    "        'Frequent Itemsets': [', '.join(itemset) for itemset, _ in frequent_itemsets if len(itemset) > 1],\n",
    "        'Support': [f'{support:.6f}' for itemset, support in frequent_itemsets if len(itemset) > 1]}\n",
    "    \n",
    "    df = pd.DataFrame(data)\n",
    "    return df"
   ],
   "outputs": [],
   "execution_count": 113
  },
  {
   "metadata": {
    "ExecuteTime": {
     "end_time": "2024-12-12T06:54:48.427060Z",
     "start_time": "2024-12-12T06:54:48.422611Z"
    }
   },
   "cell_type": "code",
   "source": [
    "# Tạo ra bảng cho các luật kết hợp để trực quan\n",
    "def association_rules_table(association_rules):\n",
    "    data = {\n",
    "        'Antecedents': [', '.join(map(str, antecedents)) for antecedents, _, _, _, _ in association_rules],\n",
    "        'Consequents': [', '.join(map(str, consequents)) for _, consequents, _, _, _ in association_rules],\n",
    "        'Support': [f'{support:.6f}' for _, _, support, _, _ in association_rules],\n",
    "        'Confidence': [f'{confidence:.6f}' for _, _, _, confidence, _ in association_rules],\n",
    "        'Lift': [f'{lift:.6f}' for _, _, _, _, lift in association_rules]}\n",
    "    \n",
    "    df = pd.DataFrame(data)\n",
    "    return df"
   ],
   "outputs": [],
   "execution_count": 114
  },
  {
   "metadata": {},
   "cell_type": "markdown",
   "source": "Cài đặt NGƯỠNG HỖ TRỢ và ĐỘ TIN CẬY TỐI THIỂU"
  },
  {
   "metadata": {
    "ExecuteTime": {
     "end_time": "2024-12-12T06:54:48.432353Z",
     "start_time": "2024-12-12T06:54:48.428843Z"
    }
   },
   "cell_type": "code",
   "source": [
    "# Ngưỡng hỗ trợ và độ tin cậy tối thiểu\n",
    "min_sup = 0.0005\n",
    "min_confidence = 0.1\n",
    "total_transactions = len(transactions) # Cần tổng số giao dịch để hỗ trợ tính toán cho support"
   ],
   "outputs": [],
   "execution_count": 115
  },
  {
   "metadata": {
    "ExecuteTime": {
     "end_time": "2024-12-12T06:54:48.509435Z",
     "start_time": "2024-12-12T06:54:48.433889Z"
    }
   },
   "cell_type": "code",
   "source": [
    "#  Chạy thuật toán Eclat để tìm tập phổ biến\n",
    "frequent_itemsets = eclat_algorithm(vertical_db, total_transactions, min_sup)"
   ],
   "outputs": [],
   "execution_count": 116
  },
  {
   "metadata": {
    "ExecuteTime": {
     "end_time": "2024-12-12T06:54:48.518926Z",
     "start_time": "2024-12-12T06:54:48.511262Z"
    }
   },
   "cell_type": "code",
   "source": [
    "# Sinh các luật kết hợp\n",
    "association_rules = association_rules(frequent_itemsets, min_confidence)"
   ],
   "outputs": [],
   "execution_count": 117
  },
  {
   "metadata": {},
   "cell_type": "markdown",
   "source": "IN KẾT QUẢ"
  },
  {
   "metadata": {
    "ExecuteTime": {
     "end_time": "2024-12-12T06:54:48.524706Z",
     "start_time": "2024-12-12T06:54:48.520335Z"
    }
   },
   "cell_type": "code",
   "source": [
    "# In Min Support và Min Confidence đã chọn\n",
    "print(f\"Min Support: {min_sup}\")\n",
    "print(f\"Min Confidence: {min_confidence}\\n\")"
   ],
   "outputs": [
    {
     "name": "stdout",
     "output_type": "stream",
     "text": [
      "Min Support: 0.0005\n",
      "Min Confidence: 0.1\n",
      "\n"
     ]
    }
   ],
   "execution_count": 118
  },
  {
   "metadata": {
    "ExecuteTime": {
     "end_time": "2024-12-12T06:54:48.536423Z",
     "start_time": "2024-12-12T06:54:48.526250Z"
    }
   },
   "cell_type": "code",
   "source": [
    "# In bảng Frequent Itemsets\n",
    "print(\"Frequent Itemsets:\")\n",
    "df_frequent_table = frequent_itemsets_table(frequent_itemsets)\n",
    "df_frequent_table"
   ],
   "outputs": [
    {
     "name": "stdout",
     "output_type": "stream",
     "text": [
      "Frequent Itemsets:\n"
     ]
    },
    {
     "data": {
      "text/plain": [
       "                   Frequent Itemsets   Support\n",
       "0                pastry, salty snack  0.000668\n",
       "1                 pastry, whole milk  0.006483\n",
       "2        pastry, whole milk, sausage  0.000735\n",
       "3         pastry, whole milk, yogurt  0.000601\n",
       "4           pastry, whole milk, soda  0.000936\n",
       "...                              ...       ...\n",
       "1284  long life bakery product, pork  0.000869\n",
       "1285                 beverages, pork  0.000601\n",
       "1286           berries, cream cheese  0.000535\n",
       "1287              cream cheese, pork  0.000668\n",
       "1288           cream cheese, waffles  0.000668\n",
       "\n",
       "[1289 rows x 2 columns]"
      ],
      "text/html": [
       "<div>\n",
       "<style scoped>\n",
       "    .dataframe tbody tr th:only-of-type {\n",
       "        vertical-align: middle;\n",
       "    }\n",
       "\n",
       "    .dataframe tbody tr th {\n",
       "        vertical-align: top;\n",
       "    }\n",
       "\n",
       "    .dataframe thead th {\n",
       "        text-align: right;\n",
       "    }\n",
       "</style>\n",
       "<table border=\"1\" class=\"dataframe\">\n",
       "  <thead>\n",
       "    <tr style=\"text-align: right;\">\n",
       "      <th></th>\n",
       "      <th>Frequent Itemsets</th>\n",
       "      <th>Support</th>\n",
       "    </tr>\n",
       "  </thead>\n",
       "  <tbody>\n",
       "    <tr>\n",
       "      <th>0</th>\n",
       "      <td>pastry, salty snack</td>\n",
       "      <td>0.000668</td>\n",
       "    </tr>\n",
       "    <tr>\n",
       "      <th>1</th>\n",
       "      <td>pastry, whole milk</td>\n",
       "      <td>0.006483</td>\n",
       "    </tr>\n",
       "    <tr>\n",
       "      <th>2</th>\n",
       "      <td>pastry, whole milk, sausage</td>\n",
       "      <td>0.000735</td>\n",
       "    </tr>\n",
       "    <tr>\n",
       "      <th>3</th>\n",
       "      <td>pastry, whole milk, yogurt</td>\n",
       "      <td>0.000601</td>\n",
       "    </tr>\n",
       "    <tr>\n",
       "      <th>4</th>\n",
       "      <td>pastry, whole milk, soda</td>\n",
       "      <td>0.000936</td>\n",
       "    </tr>\n",
       "    <tr>\n",
       "      <th>...</th>\n",
       "      <td>...</td>\n",
       "      <td>...</td>\n",
       "    </tr>\n",
       "    <tr>\n",
       "      <th>1284</th>\n",
       "      <td>long life bakery product, pork</td>\n",
       "      <td>0.000869</td>\n",
       "    </tr>\n",
       "    <tr>\n",
       "      <th>1285</th>\n",
       "      <td>beverages, pork</td>\n",
       "      <td>0.000601</td>\n",
       "    </tr>\n",
       "    <tr>\n",
       "      <th>1286</th>\n",
       "      <td>berries, cream cheese</td>\n",
       "      <td>0.000535</td>\n",
       "    </tr>\n",
       "    <tr>\n",
       "      <th>1287</th>\n",
       "      <td>cream cheese, pork</td>\n",
       "      <td>0.000668</td>\n",
       "    </tr>\n",
       "    <tr>\n",
       "      <th>1288</th>\n",
       "      <td>cream cheese, waffles</td>\n",
       "      <td>0.000668</td>\n",
       "    </tr>\n",
       "  </tbody>\n",
       "</table>\n",
       "<p>1289 rows × 2 columns</p>\n",
       "</div>"
      ]
     },
     "execution_count": 119,
     "metadata": {},
     "output_type": "execute_result"
    }
   ],
   "execution_count": 119
  },
  {
   "metadata": {
    "ExecuteTime": {
     "end_time": "2024-12-12T06:54:48.547235Z",
     "start_time": "2024-12-12T06:54:48.537916Z"
    }
   },
   "cell_type": "code",
   "source": [
    "# In bảng Association Rules\n",
    "print(\"Association Rules:\")\n",
    "df_association_rules_table = association_rules_table(association_rules)\n",
    "df_association_rules_table"
   ],
   "outputs": [
    {
     "name": "stdout",
     "output_type": "stream",
     "text": [
      "Association Rules:\n"
     ]
    },
    {
     "data": {
      "text/plain": [
       "            Antecedents      Consequents   Support Confidence      Lift\n",
       "0                pastry       whole milk  0.006483   0.125323  0.793571\n",
       "1    pastry, whole milk          sausage  0.000735   0.113402  1.879109\n",
       "2       pastry, sausage       whole milk  0.000735   0.229167  1.451130\n",
       "3        pastry, yogurt       whole milk  0.000601   0.166667  1.055367\n",
       "4    pastry, whole milk             soda  0.000936   0.144330  1.486310\n",
       "..                  ...              ...       ...        ...       ...\n",
       "289       sweet spreads   tropical fruit  0.000735   0.161765  2.387066\n",
       "290    processed cheese  root vegetables  0.001069   0.105263  1.513019\n",
       "291              turkey  root vegetables  0.000601   0.112500  1.617039\n",
       "292       sweet spreads        pip fruit  0.000535   0.117647  2.398301\n",
       "293              turkey    bottled water  0.000601   0.112500  1.853896\n",
       "\n",
       "[294 rows x 5 columns]"
      ],
      "text/html": [
       "<div>\n",
       "<style scoped>\n",
       "    .dataframe tbody tr th:only-of-type {\n",
       "        vertical-align: middle;\n",
       "    }\n",
       "\n",
       "    .dataframe tbody tr th {\n",
       "        vertical-align: top;\n",
       "    }\n",
       "\n",
       "    .dataframe thead th {\n",
       "        text-align: right;\n",
       "    }\n",
       "</style>\n",
       "<table border=\"1\" class=\"dataframe\">\n",
       "  <thead>\n",
       "    <tr style=\"text-align: right;\">\n",
       "      <th></th>\n",
       "      <th>Antecedents</th>\n",
       "      <th>Consequents</th>\n",
       "      <th>Support</th>\n",
       "      <th>Confidence</th>\n",
       "      <th>Lift</th>\n",
       "    </tr>\n",
       "  </thead>\n",
       "  <tbody>\n",
       "    <tr>\n",
       "      <th>0</th>\n",
       "      <td>pastry</td>\n",
       "      <td>whole milk</td>\n",
       "      <td>0.006483</td>\n",
       "      <td>0.125323</td>\n",
       "      <td>0.793571</td>\n",
       "    </tr>\n",
       "    <tr>\n",
       "      <th>1</th>\n",
       "      <td>pastry, whole milk</td>\n",
       "      <td>sausage</td>\n",
       "      <td>0.000735</td>\n",
       "      <td>0.113402</td>\n",
       "      <td>1.879109</td>\n",
       "    </tr>\n",
       "    <tr>\n",
       "      <th>2</th>\n",
       "      <td>pastry, sausage</td>\n",
       "      <td>whole milk</td>\n",
       "      <td>0.000735</td>\n",
       "      <td>0.229167</td>\n",
       "      <td>1.451130</td>\n",
       "    </tr>\n",
       "    <tr>\n",
       "      <th>3</th>\n",
       "      <td>pastry, yogurt</td>\n",
       "      <td>whole milk</td>\n",
       "      <td>0.000601</td>\n",
       "      <td>0.166667</td>\n",
       "      <td>1.055367</td>\n",
       "    </tr>\n",
       "    <tr>\n",
       "      <th>4</th>\n",
       "      <td>pastry, whole milk</td>\n",
       "      <td>soda</td>\n",
       "      <td>0.000936</td>\n",
       "      <td>0.144330</td>\n",
       "      <td>1.486310</td>\n",
       "    </tr>\n",
       "    <tr>\n",
       "      <th>...</th>\n",
       "      <td>...</td>\n",
       "      <td>...</td>\n",
       "      <td>...</td>\n",
       "      <td>...</td>\n",
       "      <td>...</td>\n",
       "    </tr>\n",
       "    <tr>\n",
       "      <th>289</th>\n",
       "      <td>sweet spreads</td>\n",
       "      <td>tropical fruit</td>\n",
       "      <td>0.000735</td>\n",
       "      <td>0.161765</td>\n",
       "      <td>2.387066</td>\n",
       "    </tr>\n",
       "    <tr>\n",
       "      <th>290</th>\n",
       "      <td>processed cheese</td>\n",
       "      <td>root vegetables</td>\n",
       "      <td>0.001069</td>\n",
       "      <td>0.105263</td>\n",
       "      <td>1.513019</td>\n",
       "    </tr>\n",
       "    <tr>\n",
       "      <th>291</th>\n",
       "      <td>turkey</td>\n",
       "      <td>root vegetables</td>\n",
       "      <td>0.000601</td>\n",
       "      <td>0.112500</td>\n",
       "      <td>1.617039</td>\n",
       "    </tr>\n",
       "    <tr>\n",
       "      <th>292</th>\n",
       "      <td>sweet spreads</td>\n",
       "      <td>pip fruit</td>\n",
       "      <td>0.000535</td>\n",
       "      <td>0.117647</td>\n",
       "      <td>2.398301</td>\n",
       "    </tr>\n",
       "    <tr>\n",
       "      <th>293</th>\n",
       "      <td>turkey</td>\n",
       "      <td>bottled water</td>\n",
       "      <td>0.000601</td>\n",
       "      <td>0.112500</td>\n",
       "      <td>1.853896</td>\n",
       "    </tr>\n",
       "  </tbody>\n",
       "</table>\n",
       "<p>294 rows × 5 columns</p>\n",
       "</div>"
      ]
     },
     "execution_count": 120,
     "metadata": {},
     "output_type": "execute_result"
    }
   ],
   "execution_count": 120
  },
  {
   "metadata": {
    "ExecuteTime": {
     "end_time": "2024-12-12T06:54:48.550667Z",
     "start_time": "2024-12-12T06:54:48.548470Z"
    }
   },
   "cell_type": "code",
   "source": "",
   "outputs": [],
   "execution_count": 120
  }
 ],
 "metadata": {
  "kernelspec": {
   "display_name": "Python 3",
   "language": "python",
   "name": "python3"
  },
  "language_info": {
   "codemirror_mode": {
    "name": "ipython",
    "version": 3
   },
   "file_extension": ".py",
   "mimetype": "text/x-python",
   "name": "python",
   "nbconvert_exporter": "python",
   "pygments_lexer": "ipython3",
   "version": "3.11.5"
  }
 },
 "nbformat": 4,
 "nbformat_minor": 2
}
